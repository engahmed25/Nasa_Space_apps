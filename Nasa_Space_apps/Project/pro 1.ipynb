{
 "cells": [
  {
   "cell_type": "code",
   "execution_count": 35,
   "id": "c7fcde81",
   "metadata": {},
   "outputs": [
    {
     "data": {
      "text/html": [
       "<div>\n",
       "<style scoped>\n",
       "    .dataframe tbody tr th:only-of-type {\n",
       "        vertical-align: middle;\n",
       "    }\n",
       "\n",
       "    .dataframe tbody tr th {\n",
       "        vertical-align: top;\n",
       "    }\n",
       "\n",
       "    .dataframe thead th {\n",
       "        text-align: right;\n",
       "    }\n",
       "</style>\n",
       "<table border=\"1\" class=\"dataframe\">\n",
       "  <thead>\n",
       "    <tr style=\"text-align: right;\">\n",
       "      <th></th>\n",
       "      <th>YEAR</th>\n",
       "      <th>DOY</th>\n",
       "      <th>HR</th>\n",
       "      <th>DATE (yyyy - d - hr)</th>\n",
       "      <th>DATE (yyyy - m - d)</th>\n",
       "      <th>Vector B Magnitude</th>\n",
       "      <th>Lat. Angle of B</th>\n",
       "      <th>Temperature</th>\n",
       "      <th>Proton Density</th>\n",
       "      <th>Plasma Speed</th>\n",
       "      <th>Plasma flow</th>\n",
       "      <th>Alpha/Prot. ratio</th>\n",
       "      <th>Flow pressure</th>\n",
       "      <th>E elecrtric field</th>\n",
       "      <th>Plasma Beta</th>\n",
       "      <th>R (Sunspot No.)</th>\n",
       "      <th>Proton flux (&gt;1 Mev)</th>\n",
       "    </tr>\n",
       "  </thead>\n",
       "  <tbody>\n",
       "    <tr>\n",
       "      <th>0</th>\n",
       "      <td>2020.0</td>\n",
       "      <td>1.0</td>\n",
       "      <td>0.0</td>\n",
       "      <td>2020 - 1 - 0</td>\n",
       "      <td>2020-01-01</td>\n",
       "      <td>0.8</td>\n",
       "      <td>-13.7</td>\n",
       "      <td>22067.0</td>\n",
       "      <td>10.0</td>\n",
       "      <td>295.0</td>\n",
       "      <td>0.9</td>\n",
       "      <td>0.008</td>\n",
       "      <td>1.50</td>\n",
       "      <td>0.12</td>\n",
       "      <td>10.01</td>\n",
       "      <td>6.0</td>\n",
       "      <td>999999.99</td>\n",
       "    </tr>\n",
       "    <tr>\n",
       "      <th>1</th>\n",
       "      <td>2020.0</td>\n",
       "      <td>1.0</td>\n",
       "      <td>1.0</td>\n",
       "      <td>2020 - 1 - 1</td>\n",
       "      <td>2020-01-01</td>\n",
       "      <td>2.4</td>\n",
       "      <td>16.8</td>\n",
       "      <td>30130.0</td>\n",
       "      <td>7.8</td>\n",
       "      <td>299.0</td>\n",
       "      <td>1.6</td>\n",
       "      <td>0.014</td>\n",
       "      <td>1.23</td>\n",
       "      <td>-0.24</td>\n",
       "      <td>6.12</td>\n",
       "      <td>6.0</td>\n",
       "      <td>999999.99</td>\n",
       "    </tr>\n",
       "    <tr>\n",
       "      <th>2</th>\n",
       "      <td>2020.0</td>\n",
       "      <td>1.0</td>\n",
       "      <td>2.0</td>\n",
       "      <td>2020 - 1 - 2</td>\n",
       "      <td>2020-01-01</td>\n",
       "      <td>3.7</td>\n",
       "      <td>0.9</td>\n",
       "      <td>39156.0</td>\n",
       "      <td>8.3</td>\n",
       "      <td>300.0</td>\n",
       "      <td>-0.4</td>\n",
       "      <td>0.022</td>\n",
       "      <td>1.36</td>\n",
       "      <td>0.06</td>\n",
       "      <td>3.62</td>\n",
       "      <td>6.0</td>\n",
       "      <td>999999.99</td>\n",
       "    </tr>\n",
       "    <tr>\n",
       "      <th>3</th>\n",
       "      <td>2020.0</td>\n",
       "      <td>1.0</td>\n",
       "      <td>3.0</td>\n",
       "      <td>2020 - 1 - 3</td>\n",
       "      <td>2020-01-01</td>\n",
       "      <td>5.2</td>\n",
       "      <td>4.4</td>\n",
       "      <td>25524.0</td>\n",
       "      <td>5.5</td>\n",
       "      <td>298.0</td>\n",
       "      <td>-0.5</td>\n",
       "      <td>0.029</td>\n",
       "      <td>0.91</td>\n",
       "      <td>-0.03</td>\n",
       "      <td>1.25</td>\n",
       "      <td>6.0</td>\n",
       "      <td>999999.99</td>\n",
       "    </tr>\n",
       "    <tr>\n",
       "      <th>4</th>\n",
       "      <td>2020.0</td>\n",
       "      <td>1.0</td>\n",
       "      <td>4.0</td>\n",
       "      <td>2020 - 1 - 4</td>\n",
       "      <td>2020-01-01</td>\n",
       "      <td>4.0</td>\n",
       "      <td>26.3</td>\n",
       "      <td>30304.0</td>\n",
       "      <td>7.6</td>\n",
       "      <td>302.0</td>\n",
       "      <td>0.9</td>\n",
       "      <td>0.012</td>\n",
       "      <td>1.21</td>\n",
       "      <td>-0.51</td>\n",
       "      <td>2.59</td>\n",
       "      <td>6.0</td>\n",
       "      <td>999999.99</td>\n",
       "    </tr>\n",
       "  </tbody>\n",
       "</table>\n",
       "</div>"
      ],
      "text/plain": [
       "     YEAR  DOY   HR DATE (yyyy - d - hr) DATE (yyyy - m - d)  \\\n",
       "0  2020.0  1.0  0.0         2020 - 1 - 0          2020-01-01   \n",
       "1  2020.0  1.0  1.0         2020 - 1 - 1          2020-01-01   \n",
       "2  2020.0  1.0  2.0         2020 - 1 - 2          2020-01-01   \n",
       "3  2020.0  1.0  3.0         2020 - 1 - 3          2020-01-01   \n",
       "4  2020.0  1.0  4.0         2020 - 1 - 4          2020-01-01   \n",
       "\n",
       "   Vector B Magnitude Lat. Angle of B  Temperature  Proton Density  \\\n",
       "0                 0.8           -13.7      22067.0            10.0   \n",
       "1                 2.4            16.8      30130.0             7.8   \n",
       "2                 3.7             0.9      39156.0             8.3   \n",
       "3                 5.2             4.4      25524.0             5.5   \n",
       "4                 4.0            26.3      30304.0             7.6   \n",
       "\n",
       "   Plasma Speed  Plasma flow  Alpha/Prot. ratio  Flow pressure  \\\n",
       "0         295.0          0.9              0.008           1.50   \n",
       "1         299.0          1.6              0.014           1.23   \n",
       "2         300.0         -0.4              0.022           1.36   \n",
       "3         298.0         -0.5              0.029           0.91   \n",
       "4         302.0          0.9              0.012           1.21   \n",
       "\n",
       "   E elecrtric field  Plasma Beta  R (Sunspot No.)  Proton flux (>1 Mev)  \n",
       "0               0.12        10.01              6.0             999999.99  \n",
       "1              -0.24         6.12              6.0             999999.99  \n",
       "2               0.06         3.62              6.0             999999.99  \n",
       "3              -0.03         1.25              6.0             999999.99  \n",
       "4              -0.51         2.59              6.0             999999.99  "
      ]
     },
     "execution_count": 35,
     "metadata": {},
     "output_type": "execute_result"
    }
   ],
   "source": [
    "import numpy as np # linear algebra\n",
    "import pandas as pd # data processing, CSV file I/O (e.g. pd.read_csv)\n",
    "\n",
    "import seaborn as sns # Visualization\n",
    "import matplotlib.pyplot as plt # Visualization\n",
    "\n",
    "from sklearn.metrics import mean_absolute_error, mean_squared_error\n",
    "import math\n",
    "\n",
    "import warnings # Supress warnings \n",
    "warnings.filterwarnings('ignore')\n",
    "\n",
    "df = pd.read_excel(\"DATA- format.xlsx\")\n",
    "\"\"\"\"\n",
    "### Simplifications for the sake of the tutorial ###\n",
    "# Drop data before 2009 for the purpose of this tutorial\n",
    "df = df[df.Rainfall_Bastia_Umbra.notna()].reset_index(drop=True)\n",
    "# Drop one of the target columns, so we can focus on only one target\n",
    "df = df.drop(['Depth_to_Groundwater_P24', 'Temperature_Petrignano'], axis=1)\n",
    "\n",
    "# Simplify column names\n",
    "df.columns = ['Date', 'Rainfall', 'Depth_to_Groundwater', 'Temperature', 'Drainage_Volume', 'River_Hydrometry']\n",
    "\n",
    "targets = ['Depth_to_Groundwater']\n",
    "features = [feature for feature in df.columns if feature not in targets]\n",
    "\n",
    "\"\"\"\n",
    "df.head()"
   ]
  },
  {
   "cell_type": "code",
   "execution_count": 36,
   "id": "40e13288",
   "metadata": {},
   "outputs": [
    {
     "data": {
      "text/html": [
       "<div>\n",
       "<style scoped>\n",
       "    .dataframe tbody tr th:only-of-type {\n",
       "        vertical-align: middle;\n",
       "    }\n",
       "\n",
       "    .dataframe tbody tr th {\n",
       "        vertical-align: top;\n",
       "    }\n",
       "\n",
       "    .dataframe thead th {\n",
       "        text-align: right;\n",
       "    }\n",
       "</style>\n",
       "<table border=\"1\" class=\"dataframe\">\n",
       "  <thead>\n",
       "    <tr style=\"text-align: right;\">\n",
       "      <th></th>\n",
       "      <th>DATE</th>\n",
       "      <th>Vector B Magnitude</th>\n",
       "      <th>Lat. Angle of B</th>\n",
       "      <th>Temperature</th>\n",
       "      <th>Proton Density</th>\n",
       "      <th>Plasma Speed</th>\n",
       "      <th>Plasma flow</th>\n",
       "      <th>Alpha/Prot. ratio</th>\n",
       "      <th>Flow pressure</th>\n",
       "      <th>E elecrtric field</th>\n",
       "      <th>Plasma Beta</th>\n",
       "      <th>R (Sunspot No.)</th>\n",
       "      <th>Proton flux (&gt;1 Mev)</th>\n",
       "    </tr>\n",
       "  </thead>\n",
       "  <tbody>\n",
       "    <tr>\n",
       "      <th>0</th>\n",
       "      <td>2020-01-01</td>\n",
       "      <td>0.8</td>\n",
       "      <td>-13.7</td>\n",
       "      <td>22067</td>\n",
       "      <td>10.0</td>\n",
       "      <td>295</td>\n",
       "      <td>0.9</td>\n",
       "      <td>0.008</td>\n",
       "      <td>1.50</td>\n",
       "      <td>0.12</td>\n",
       "      <td>10.01</td>\n",
       "      <td>6</td>\n",
       "      <td>999999.99</td>\n",
       "    </tr>\n",
       "    <tr>\n",
       "      <th>1</th>\n",
       "      <td>2020-01-01</td>\n",
       "      <td>2.4</td>\n",
       "      <td>16.8</td>\n",
       "      <td>30130</td>\n",
       "      <td>7.8</td>\n",
       "      <td>299</td>\n",
       "      <td>1.6</td>\n",
       "      <td>0.014</td>\n",
       "      <td>1.23</td>\n",
       "      <td>-0.24</td>\n",
       "      <td>6.12</td>\n",
       "      <td>6</td>\n",
       "      <td>999999.99</td>\n",
       "    </tr>\n",
       "    <tr>\n",
       "      <th>2</th>\n",
       "      <td>2020-01-01</td>\n",
       "      <td>3.7</td>\n",
       "      <td>0.9</td>\n",
       "      <td>39156</td>\n",
       "      <td>8.3</td>\n",
       "      <td>300</td>\n",
       "      <td>-0.4</td>\n",
       "      <td>0.022</td>\n",
       "      <td>1.36</td>\n",
       "      <td>0.06</td>\n",
       "      <td>3.62</td>\n",
       "      <td>6</td>\n",
       "      <td>999999.99</td>\n",
       "    </tr>\n",
       "    <tr>\n",
       "      <th>3</th>\n",
       "      <td>2020-01-01</td>\n",
       "      <td>5.2</td>\n",
       "      <td>4.4</td>\n",
       "      <td>25524</td>\n",
       "      <td>5.5</td>\n",
       "      <td>298</td>\n",
       "      <td>-0.5</td>\n",
       "      <td>0.029</td>\n",
       "      <td>0.91</td>\n",
       "      <td>-0.03</td>\n",
       "      <td>1.25</td>\n",
       "      <td>6</td>\n",
       "      <td>999999.99</td>\n",
       "    </tr>\n",
       "    <tr>\n",
       "      <th>4</th>\n",
       "      <td>2020-01-01</td>\n",
       "      <td>4.0</td>\n",
       "      <td>26.3</td>\n",
       "      <td>30304</td>\n",
       "      <td>7.6</td>\n",
       "      <td>302</td>\n",
       "      <td>0.9</td>\n",
       "      <td>0.012</td>\n",
       "      <td>1.21</td>\n",
       "      <td>-0.51</td>\n",
       "      <td>2.59</td>\n",
       "      <td>6</td>\n",
       "      <td>999999.99</td>\n",
       "    </tr>\n",
       "  </tbody>\n",
       "</table>\n",
       "</div>"
      ],
      "text/plain": [
       "        DATE  Vector B Magnitude Lat. Angle of B  Temperature  Proton Density  \\\n",
       "0 2020-01-01                 0.8           -13.7        22067            10.0   \n",
       "1 2020-01-01                 2.4            16.8        30130             7.8   \n",
       "2 2020-01-01                 3.7             0.9        39156             8.3   \n",
       "3 2020-01-01                 5.2             4.4        25524             5.5   \n",
       "4 2020-01-01                 4.0            26.3        30304             7.6   \n",
       "\n",
       "   Plasma Speed  Plasma flow  Alpha/Prot. ratio  Flow pressure  \\\n",
       "0           295          0.9              0.008           1.50   \n",
       "1           299          1.6              0.014           1.23   \n",
       "2           300         -0.4              0.022           1.36   \n",
       "3           298         -0.5              0.029           0.91   \n",
       "4           302          0.9              0.012           1.21   \n",
       "\n",
       "   E elecrtric field  Plasma Beta  R (Sunspot No.)  Proton flux (>1 Mev)  \n",
       "0               0.12        10.01                6             999999.99  \n",
       "1              -0.24         6.12                6             999999.99  \n",
       "2               0.06         3.62                6             999999.99  \n",
       "3              -0.03         1.25                6             999999.99  \n",
       "4              -0.51         2.59                6             999999.99  "
      ]
     },
     "execution_count": 36,
     "metadata": {},
     "output_type": "execute_result"
    }
   ],
   "source": [
    "df = pd.read_excel(\"DATA.xlsx\")\n",
    "df.head()"
   ]
  },
  {
   "cell_type": "code",
   "execution_count": 37,
   "id": "d0c70fa3",
   "metadata": {},
   "outputs": [
    {
     "data": {
      "text/html": [
       "<div>\n",
       "<style scoped>\n",
       "    .dataframe tbody tr th:only-of-type {\n",
       "        vertical-align: middle;\n",
       "    }\n",
       "\n",
       "    .dataframe tbody tr th {\n",
       "        vertical-align: top;\n",
       "    }\n",
       "\n",
       "    .dataframe thead th {\n",
       "        text-align: right;\n",
       "    }\n",
       "</style>\n",
       "<table border=\"1\" class=\"dataframe\">\n",
       "  <thead>\n",
       "    <tr style=\"text-align: right;\">\n",
       "      <th></th>\n",
       "      <th>DATE</th>\n",
       "      <th>Vector B Magnitude</th>\n",
       "      <th>Lat. Angle of B</th>\n",
       "      <th>Temperature</th>\n",
       "      <th>Proton Density</th>\n",
       "      <th>Plasma Speed</th>\n",
       "      <th>Plasma flow</th>\n",
       "      <th>Alpha/Prot. ratio</th>\n",
       "      <th>Flow pressure</th>\n",
       "      <th>E elecrtric field</th>\n",
       "      <th>Plasma Beta</th>\n",
       "      <th>R (Sunspot No.)</th>\n",
       "      <th>Proton flux (&gt;1 Mev)</th>\n",
       "    </tr>\n",
       "  </thead>\n",
       "  <tbody>\n",
       "    <tr>\n",
       "      <th>0</th>\n",
       "      <td>2020-01-01</td>\n",
       "      <td>0.8</td>\n",
       "      <td>-13.7</td>\n",
       "      <td>22067</td>\n",
       "      <td>10.0</td>\n",
       "      <td>295</td>\n",
       "      <td>0.9</td>\n",
       "      <td>0.008</td>\n",
       "      <td>1.50</td>\n",
       "      <td>0.12</td>\n",
       "      <td>10.01</td>\n",
       "      <td>6</td>\n",
       "      <td>999999.99</td>\n",
       "    </tr>\n",
       "    <tr>\n",
       "      <th>1</th>\n",
       "      <td>2020-01-01</td>\n",
       "      <td>2.4</td>\n",
       "      <td>16.8</td>\n",
       "      <td>30130</td>\n",
       "      <td>7.8</td>\n",
       "      <td>299</td>\n",
       "      <td>1.6</td>\n",
       "      <td>0.014</td>\n",
       "      <td>1.23</td>\n",
       "      <td>-0.24</td>\n",
       "      <td>6.12</td>\n",
       "      <td>6</td>\n",
       "      <td>999999.99</td>\n",
       "    </tr>\n",
       "    <tr>\n",
       "      <th>2</th>\n",
       "      <td>2020-01-01</td>\n",
       "      <td>3.7</td>\n",
       "      <td>0.9</td>\n",
       "      <td>39156</td>\n",
       "      <td>8.3</td>\n",
       "      <td>300</td>\n",
       "      <td>-0.4</td>\n",
       "      <td>0.022</td>\n",
       "      <td>1.36</td>\n",
       "      <td>0.06</td>\n",
       "      <td>3.62</td>\n",
       "      <td>6</td>\n",
       "      <td>999999.99</td>\n",
       "    </tr>\n",
       "    <tr>\n",
       "      <th>3</th>\n",
       "      <td>2020-01-01</td>\n",
       "      <td>5.2</td>\n",
       "      <td>4.4</td>\n",
       "      <td>25524</td>\n",
       "      <td>5.5</td>\n",
       "      <td>298</td>\n",
       "      <td>-0.5</td>\n",
       "      <td>0.029</td>\n",
       "      <td>0.91</td>\n",
       "      <td>-0.03</td>\n",
       "      <td>1.25</td>\n",
       "      <td>6</td>\n",
       "      <td>999999.99</td>\n",
       "    </tr>\n",
       "    <tr>\n",
       "      <th>4</th>\n",
       "      <td>2020-01-01</td>\n",
       "      <td>4.0</td>\n",
       "      <td>26.3</td>\n",
       "      <td>30304</td>\n",
       "      <td>7.6</td>\n",
       "      <td>302</td>\n",
       "      <td>0.9</td>\n",
       "      <td>0.012</td>\n",
       "      <td>1.21</td>\n",
       "      <td>-0.51</td>\n",
       "      <td>2.59</td>\n",
       "      <td>6</td>\n",
       "      <td>999999.99</td>\n",
       "    </tr>\n",
       "    <tr>\n",
       "      <th>5</th>\n",
       "      <td>2020-01-01</td>\n",
       "      <td>3.9</td>\n",
       "      <td>7.7</td>\n",
       "      <td>35261</td>\n",
       "      <td>7.5</td>\n",
       "      <td>311</td>\n",
       "      <td>-1.0</td>\n",
       "      <td>0.013</td>\n",
       "      <td>1.27</td>\n",
       "      <td>-0.12</td>\n",
       "      <td>3.04</td>\n",
       "      <td>6</td>\n",
       "      <td>999999.99</td>\n",
       "    </tr>\n",
       "    <tr>\n",
       "      <th>6</th>\n",
       "      <td>2020-01-01</td>\n",
       "      <td>3.4</td>\n",
       "      <td>-31.2</td>\n",
       "      <td>30589</td>\n",
       "      <td>6.4</td>\n",
       "      <td>313</td>\n",
       "      <td>-1.1</td>\n",
       "      <td>0.015</td>\n",
       "      <td>1.11</td>\n",
       "      <td>0.56</td>\n",
       "      <td>2.40</td>\n",
       "      <td>6</td>\n",
       "      <td>999999.99</td>\n",
       "    </tr>\n",
       "    <tr>\n",
       "      <th>7</th>\n",
       "      <td>2020-01-01</td>\n",
       "      <td>4.1</td>\n",
       "      <td>-54.3</td>\n",
       "      <td>43851</td>\n",
       "      <td>8.5</td>\n",
       "      <td>326</td>\n",
       "      <td>0.4</td>\n",
       "      <td>0.015</td>\n",
       "      <td>1.60</td>\n",
       "      <td>1.04</td>\n",
       "      <td>3.29</td>\n",
       "      <td>6</td>\n",
       "      <td>999999.99</td>\n",
       "    </tr>\n",
       "    <tr>\n",
       "      <th>8</th>\n",
       "      <td>2020-01-01</td>\n",
       "      <td>3.9</td>\n",
       "      <td>-51.5</td>\n",
       "      <td>43397</td>\n",
       "      <td>8.0</td>\n",
       "      <td>330</td>\n",
       "      <td>-0.3</td>\n",
       "      <td>0.016</td>\n",
       "      <td>1.55</td>\n",
       "      <td>0.92</td>\n",
       "      <td>3.76</td>\n",
       "      <td>6</td>\n",
       "      <td>999999.99</td>\n",
       "    </tr>\n",
       "    <tr>\n",
       "      <th>9</th>\n",
       "      <td>2020-01-01</td>\n",
       "      <td>2.5</td>\n",
       "      <td>-40.4</td>\n",
       "      <td>44369</td>\n",
       "      <td>8.5</td>\n",
       "      <td>329</td>\n",
       "      <td>0.8</td>\n",
       "      <td>0.018</td>\n",
       "      <td>1.65</td>\n",
       "      <td>0.49</td>\n",
       "      <td>4.02</td>\n",
       "      <td>6</td>\n",
       "      <td>999999.99</td>\n",
       "    </tr>\n",
       "    <tr>\n",
       "      <th>10</th>\n",
       "      <td>2020-01-01</td>\n",
       "      <td>4.5</td>\n",
       "      <td>22.8</td>\n",
       "      <td>41564</td>\n",
       "      <td>9.0</td>\n",
       "      <td>324</td>\n",
       "      <td>0.8</td>\n",
       "      <td>0.019</td>\n",
       "      <td>1.70</td>\n",
       "      <td>-0.58</td>\n",
       "      <td>2.76</td>\n",
       "      <td>6</td>\n",
       "      <td>999999.99</td>\n",
       "    </tr>\n",
       "    <tr>\n",
       "      <th>11</th>\n",
       "      <td>2020-01-01</td>\n",
       "      <td>4.5</td>\n",
       "      <td>-6.5</td>\n",
       "      <td>40872</td>\n",
       "      <td>7.5</td>\n",
       "      <td>317</td>\n",
       "      <td>0.0</td>\n",
       "      <td>0.024</td>\n",
       "      <td>1.38</td>\n",
       "      <td>0.13</td>\n",
       "      <td>2.29</td>\n",
       "      <td>6</td>\n",
       "      <td>999999.99</td>\n",
       "    </tr>\n",
       "    <tr>\n",
       "      <th>12</th>\n",
       "      <td>2020-01-01</td>\n",
       "      <td>4.4</td>\n",
       "      <td>4.9</td>\n",
       "      <td>44091</td>\n",
       "      <td>7.4</td>\n",
       "      <td>313</td>\n",
       "      <td>1.2</td>\n",
       "      <td>0.024</td>\n",
       "      <td>1.33</td>\n",
       "      <td>-0.13</td>\n",
       "      <td>2.62</td>\n",
       "      <td>6</td>\n",
       "      <td>999999.99</td>\n",
       "    </tr>\n",
       "    <tr>\n",
       "      <th>13</th>\n",
       "      <td>2020-01-01</td>\n",
       "      <td>3.2</td>\n",
       "      <td>7.5</td>\n",
       "      <td>50287</td>\n",
       "      <td>9.0</td>\n",
       "      <td>323</td>\n",
       "      <td>0.2</td>\n",
       "      <td>0.017</td>\n",
       "      <td>1.67</td>\n",
       "      <td>-0.16</td>\n",
       "      <td>3.98</td>\n",
       "      <td>6</td>\n",
       "      <td>999999.99</td>\n",
       "    </tr>\n",
       "    <tr>\n",
       "      <th>14</th>\n",
       "      <td>2020-01-01</td>\n",
       "      <td>3.0</td>\n",
       "      <td>-34.8</td>\n",
       "      <td>47545</td>\n",
       "      <td>9.5</td>\n",
       "      <td>339</td>\n",
       "      <td>-0.4</td>\n",
       "      <td>0.013</td>\n",
       "      <td>1.92</td>\n",
       "      <td>0.54</td>\n",
       "      <td>4.81</td>\n",
       "      <td>6</td>\n",
       "      <td>999999.99</td>\n",
       "    </tr>\n",
       "  </tbody>\n",
       "</table>\n",
       "</div>"
      ],
      "text/plain": [
       "         DATE  Vector B Magnitude Lat. Angle of B  Temperature  \\\n",
       "0  2020-01-01                 0.8           -13.7        22067   \n",
       "1  2020-01-01                 2.4            16.8        30130   \n",
       "2  2020-01-01                 3.7             0.9        39156   \n",
       "3  2020-01-01                 5.2             4.4        25524   \n",
       "4  2020-01-01                 4.0            26.3        30304   \n",
       "5  2020-01-01                 3.9             7.7        35261   \n",
       "6  2020-01-01                 3.4           -31.2        30589   \n",
       "7  2020-01-01                 4.1           -54.3        43851   \n",
       "8  2020-01-01                 3.9           -51.5        43397   \n",
       "9  2020-01-01                 2.5           -40.4        44369   \n",
       "10 2020-01-01                 4.5            22.8        41564   \n",
       "11 2020-01-01                 4.5            -6.5        40872   \n",
       "12 2020-01-01                 4.4             4.9        44091   \n",
       "13 2020-01-01                 3.2             7.5        50287   \n",
       "14 2020-01-01                 3.0           -34.8        47545   \n",
       "\n",
       "    Proton Density  Plasma Speed  Plasma flow  Alpha/Prot. ratio  \\\n",
       "0             10.0           295          0.9              0.008   \n",
       "1              7.8           299          1.6              0.014   \n",
       "2              8.3           300         -0.4              0.022   \n",
       "3              5.5           298         -0.5              0.029   \n",
       "4              7.6           302          0.9              0.012   \n",
       "5              7.5           311         -1.0              0.013   \n",
       "6              6.4           313         -1.1              0.015   \n",
       "7              8.5           326          0.4              0.015   \n",
       "8              8.0           330         -0.3              0.016   \n",
       "9              8.5           329          0.8              0.018   \n",
       "10             9.0           324          0.8              0.019   \n",
       "11             7.5           317          0.0              0.024   \n",
       "12             7.4           313          1.2              0.024   \n",
       "13             9.0           323          0.2              0.017   \n",
       "14             9.5           339         -0.4              0.013   \n",
       "\n",
       "    Flow pressure  E elecrtric field  Plasma Beta  R (Sunspot No.)  \\\n",
       "0            1.50               0.12        10.01                6   \n",
       "1            1.23              -0.24         6.12                6   \n",
       "2            1.36               0.06         3.62                6   \n",
       "3            0.91              -0.03         1.25                6   \n",
       "4            1.21              -0.51         2.59                6   \n",
       "5            1.27              -0.12         3.04                6   \n",
       "6            1.11               0.56         2.40                6   \n",
       "7            1.60               1.04         3.29                6   \n",
       "8            1.55               0.92         3.76                6   \n",
       "9            1.65               0.49         4.02                6   \n",
       "10           1.70              -0.58         2.76                6   \n",
       "11           1.38               0.13         2.29                6   \n",
       "12           1.33              -0.13         2.62                6   \n",
       "13           1.67              -0.16         3.98                6   \n",
       "14           1.92               0.54         4.81                6   \n",
       "\n",
       "    Proton flux (>1 Mev)  \n",
       "0              999999.99  \n",
       "1              999999.99  \n",
       "2              999999.99  \n",
       "3              999999.99  \n",
       "4              999999.99  \n",
       "5              999999.99  \n",
       "6              999999.99  \n",
       "7              999999.99  \n",
       "8              999999.99  \n",
       "9              999999.99  \n",
       "10             999999.99  \n",
       "11             999999.99  \n",
       "12             999999.99  \n",
       "13             999999.99  \n",
       "14             999999.99  "
      ]
     },
     "execution_count": 37,
     "metadata": {},
     "output_type": "execute_result"
    }
   ],
   "source": [
    "df.head(15)"
   ]
  },
  {
   "cell_type": "code",
   "execution_count": null,
   "id": "f1f56f09",
   "metadata": {},
   "outputs": [],
   "source": []
  },
  {
   "cell_type": "code",
   "execution_count": null,
   "id": "654d1051",
   "metadata": {},
   "outputs": [],
   "source": []
  },
  {
   "cell_type": "code",
   "execution_count": null,
   "id": "785e4abd",
   "metadata": {},
   "outputs": [],
   "source": []
  },
  {
   "cell_type": "code",
   "execution_count": null,
   "id": "e1dfbd2b",
   "metadata": {},
   "outputs": [],
   "source": []
  },
  {
   "cell_type": "code",
   "execution_count": 38,
   "id": "74a86c67",
   "metadata": {},
   "outputs": [
    {
     "data": {
      "text/html": [
       "<style type=\"text/css\">\n",
       "#T_a410a_row0_col0, #T_a410a_row1_col0, #T_a410a_row2_col0, #T_a410a_row3_col0, #T_a410a_row4_col0 {\n",
       "  background-color: dodgerblue;\n",
       "}\n",
       "</style>\n",
       "<table id=\"T_a410a_\">\n",
       "  <thead>\n",
       "    <tr>\n",
       "      <th class=\"blank level0\" >&nbsp;</th>\n",
       "      <th class=\"col_heading level0 col0\" >DATE</th>\n",
       "      <th class=\"col_heading level0 col1\" >Vector B Magnitude</th>\n",
       "      <th class=\"col_heading level0 col2\" >Lat. Angle of B</th>\n",
       "      <th class=\"col_heading level0 col3\" >Temperature</th>\n",
       "      <th class=\"col_heading level0 col4\" >Proton Density</th>\n",
       "      <th class=\"col_heading level0 col5\" >Plasma Speed</th>\n",
       "      <th class=\"col_heading level0 col6\" >Plasma flow</th>\n",
       "      <th class=\"col_heading level0 col7\" >Alpha/Prot. ratio</th>\n",
       "      <th class=\"col_heading level0 col8\" >Flow pressure</th>\n",
       "      <th class=\"col_heading level0 col9\" >E elecrtric field</th>\n",
       "      <th class=\"col_heading level0 col10\" >Plasma Beta</th>\n",
       "      <th class=\"col_heading level0 col11\" >R (Sunspot No.)</th>\n",
       "      <th class=\"col_heading level0 col12\" >Proton flux (>1 Mev)</th>\n",
       "    </tr>\n",
       "  </thead>\n",
       "  <tbody>\n",
       "    <tr>\n",
       "      <th id=\"T_a410a_level0_row0\" class=\"row_heading level0 row0\" >0</th>\n",
       "      <td id=\"T_a410a_row0_col0\" class=\"data row0 col0\" >2020-01-01 00:00:00</td>\n",
       "      <td id=\"T_a410a_row0_col1\" class=\"data row0 col1\" >0.800000</td>\n",
       "      <td id=\"T_a410a_row0_col2\" class=\"data row0 col2\" >-13.700000</td>\n",
       "      <td id=\"T_a410a_row0_col3\" class=\"data row0 col3\" >22067</td>\n",
       "      <td id=\"T_a410a_row0_col4\" class=\"data row0 col4\" >10.000000</td>\n",
       "      <td id=\"T_a410a_row0_col5\" class=\"data row0 col5\" >295</td>\n",
       "      <td id=\"T_a410a_row0_col6\" class=\"data row0 col6\" >0.900000</td>\n",
       "      <td id=\"T_a410a_row0_col7\" class=\"data row0 col7\" >0.008000</td>\n",
       "      <td id=\"T_a410a_row0_col8\" class=\"data row0 col8\" >1.500000</td>\n",
       "      <td id=\"T_a410a_row0_col9\" class=\"data row0 col9\" >0.120000</td>\n",
       "      <td id=\"T_a410a_row0_col10\" class=\"data row0 col10\" >10.010000</td>\n",
       "      <td id=\"T_a410a_row0_col11\" class=\"data row0 col11\" >6</td>\n",
       "      <td id=\"T_a410a_row0_col12\" class=\"data row0 col12\" >999999.990000</td>\n",
       "    </tr>\n",
       "    <tr>\n",
       "      <th id=\"T_a410a_level0_row1\" class=\"row_heading level0 row1\" >1</th>\n",
       "      <td id=\"T_a410a_row1_col0\" class=\"data row1 col0\" >2020-01-01 00:00:00</td>\n",
       "      <td id=\"T_a410a_row1_col1\" class=\"data row1 col1\" >2.400000</td>\n",
       "      <td id=\"T_a410a_row1_col2\" class=\"data row1 col2\" >16.800000</td>\n",
       "      <td id=\"T_a410a_row1_col3\" class=\"data row1 col3\" >30130</td>\n",
       "      <td id=\"T_a410a_row1_col4\" class=\"data row1 col4\" >7.800000</td>\n",
       "      <td id=\"T_a410a_row1_col5\" class=\"data row1 col5\" >299</td>\n",
       "      <td id=\"T_a410a_row1_col6\" class=\"data row1 col6\" >1.600000</td>\n",
       "      <td id=\"T_a410a_row1_col7\" class=\"data row1 col7\" >0.014000</td>\n",
       "      <td id=\"T_a410a_row1_col8\" class=\"data row1 col8\" >1.230000</td>\n",
       "      <td id=\"T_a410a_row1_col9\" class=\"data row1 col9\" >-0.240000</td>\n",
       "      <td id=\"T_a410a_row1_col10\" class=\"data row1 col10\" >6.120000</td>\n",
       "      <td id=\"T_a410a_row1_col11\" class=\"data row1 col11\" >6</td>\n",
       "      <td id=\"T_a410a_row1_col12\" class=\"data row1 col12\" >999999.990000</td>\n",
       "    </tr>\n",
       "    <tr>\n",
       "      <th id=\"T_a410a_level0_row2\" class=\"row_heading level0 row2\" >2</th>\n",
       "      <td id=\"T_a410a_row2_col0\" class=\"data row2 col0\" >2020-01-01 00:00:00</td>\n",
       "      <td id=\"T_a410a_row2_col1\" class=\"data row2 col1\" >3.700000</td>\n",
       "      <td id=\"T_a410a_row2_col2\" class=\"data row2 col2\" >0.900000</td>\n",
       "      <td id=\"T_a410a_row2_col3\" class=\"data row2 col3\" >39156</td>\n",
       "      <td id=\"T_a410a_row2_col4\" class=\"data row2 col4\" >8.300000</td>\n",
       "      <td id=\"T_a410a_row2_col5\" class=\"data row2 col5\" >300</td>\n",
       "      <td id=\"T_a410a_row2_col6\" class=\"data row2 col6\" >-0.400000</td>\n",
       "      <td id=\"T_a410a_row2_col7\" class=\"data row2 col7\" >0.022000</td>\n",
       "      <td id=\"T_a410a_row2_col8\" class=\"data row2 col8\" >1.360000</td>\n",
       "      <td id=\"T_a410a_row2_col9\" class=\"data row2 col9\" >0.060000</td>\n",
       "      <td id=\"T_a410a_row2_col10\" class=\"data row2 col10\" >3.620000</td>\n",
       "      <td id=\"T_a410a_row2_col11\" class=\"data row2 col11\" >6</td>\n",
       "      <td id=\"T_a410a_row2_col12\" class=\"data row2 col12\" >999999.990000</td>\n",
       "    </tr>\n",
       "    <tr>\n",
       "      <th id=\"T_a410a_level0_row3\" class=\"row_heading level0 row3\" >3</th>\n",
       "      <td id=\"T_a410a_row3_col0\" class=\"data row3 col0\" >2020-01-01 00:00:00</td>\n",
       "      <td id=\"T_a410a_row3_col1\" class=\"data row3 col1\" >5.200000</td>\n",
       "      <td id=\"T_a410a_row3_col2\" class=\"data row3 col2\" >4.400000</td>\n",
       "      <td id=\"T_a410a_row3_col3\" class=\"data row3 col3\" >25524</td>\n",
       "      <td id=\"T_a410a_row3_col4\" class=\"data row3 col4\" >5.500000</td>\n",
       "      <td id=\"T_a410a_row3_col5\" class=\"data row3 col5\" >298</td>\n",
       "      <td id=\"T_a410a_row3_col6\" class=\"data row3 col6\" >-0.500000</td>\n",
       "      <td id=\"T_a410a_row3_col7\" class=\"data row3 col7\" >0.029000</td>\n",
       "      <td id=\"T_a410a_row3_col8\" class=\"data row3 col8\" >0.910000</td>\n",
       "      <td id=\"T_a410a_row3_col9\" class=\"data row3 col9\" >-0.030000</td>\n",
       "      <td id=\"T_a410a_row3_col10\" class=\"data row3 col10\" >1.250000</td>\n",
       "      <td id=\"T_a410a_row3_col11\" class=\"data row3 col11\" >6</td>\n",
       "      <td id=\"T_a410a_row3_col12\" class=\"data row3 col12\" >999999.990000</td>\n",
       "    </tr>\n",
       "    <tr>\n",
       "      <th id=\"T_a410a_level0_row4\" class=\"row_heading level0 row4\" >4</th>\n",
       "      <td id=\"T_a410a_row4_col0\" class=\"data row4 col0\" >2020-01-01 00:00:00</td>\n",
       "      <td id=\"T_a410a_row4_col1\" class=\"data row4 col1\" >4.000000</td>\n",
       "      <td id=\"T_a410a_row4_col2\" class=\"data row4 col2\" >26.300000</td>\n",
       "      <td id=\"T_a410a_row4_col3\" class=\"data row4 col3\" >30304</td>\n",
       "      <td id=\"T_a410a_row4_col4\" class=\"data row4 col4\" >7.600000</td>\n",
       "      <td id=\"T_a410a_row4_col5\" class=\"data row4 col5\" >302</td>\n",
       "      <td id=\"T_a410a_row4_col6\" class=\"data row4 col6\" >0.900000</td>\n",
       "      <td id=\"T_a410a_row4_col7\" class=\"data row4 col7\" >0.012000</td>\n",
       "      <td id=\"T_a410a_row4_col8\" class=\"data row4 col8\" >1.210000</td>\n",
       "      <td id=\"T_a410a_row4_col9\" class=\"data row4 col9\" >-0.510000</td>\n",
       "      <td id=\"T_a410a_row4_col10\" class=\"data row4 col10\" >2.590000</td>\n",
       "      <td id=\"T_a410a_row4_col11\" class=\"data row4 col11\" >6</td>\n",
       "      <td id=\"T_a410a_row4_col12\" class=\"data row4 col12\" >999999.990000</td>\n",
       "    </tr>\n",
       "  </tbody>\n",
       "</table>\n"
      ],
      "text/plain": [
       "<pandas.io.formats.style.Styler at 0x22f9c963070>"
      ]
     },
     "execution_count": 38,
     "metadata": {},
     "output_type": "execute_result"
    }
   ],
   "source": [
    "from datetime import datetime, date \n",
    "\n",
    "df['DATE'] = pd.to_datetime(df.DATE, format ='%d/%m/%Y')\n",
    "df.head().style.set_properties(subset=['DATE'], **{'background-color': 'dodgerblue'})"
   ]
  },
  {
   "cell_type": "code",
   "execution_count": null,
   "id": "55621026",
   "metadata": {},
   "outputs": [],
   "source": []
  },
  {
   "cell_type": "code",
   "execution_count": null,
   "id": "38b1308b",
   "metadata": {},
   "outputs": [],
   "source": []
  },
  {
   "cell_type": "code",
   "execution_count": null,
   "id": "6a72fffd",
   "metadata": {},
   "outputs": [],
   "source": []
  },
  {
   "cell_type": "code",
   "execution_count": null,
   "id": "5662af47",
   "metadata": {},
   "outputs": [],
   "source": []
  },
  {
   "cell_type": "code",
   "execution_count": null,
   "id": "1e829705",
   "metadata": {},
   "outputs": [],
   "source": []
  },
  {
   "cell_type": "code",
   "execution_count": null,
   "id": "2fdb6935",
   "metadata": {},
   "outputs": [],
   "source": []
  },
  {
   "cell_type": "code",
   "execution_count": null,
   "id": "b10c7d9d",
   "metadata": {},
   "outputs": [],
   "source": []
  },
  {
   "cell_type": "code",
   "execution_count": null,
   "id": "0ead6e76",
   "metadata": {},
   "outputs": [],
   "source": []
  },
  {
   "cell_type": "code",
   "execution_count": 39,
   "id": "6c204e1e",
   "metadata": {},
   "outputs": [
    {
     "data": {
      "text/plain": [
       "(3421, 13)"
      ]
     },
     "execution_count": 39,
     "metadata": {},
     "output_type": "execute_result"
    }
   ],
   "source": [
    "df.shape"
   ]
  },
  {
   "cell_type": "code",
   "execution_count": 40,
   "id": "a2995a1d",
   "metadata": {},
   "outputs": [
    {
     "data": {
      "text/plain": [
       "DATE                    0\n",
       "Vector B Magnitude      0\n",
       "Lat. Angle of B         0\n",
       "Temperature             0\n",
       "Proton Density          0\n",
       "Plasma Speed            0\n",
       "Plasma flow             0\n",
       "Alpha/Prot. ratio       0\n",
       "Flow pressure           0\n",
       "E elecrtric field       0\n",
       "Plasma Beta             0\n",
       "R (Sunspot No.)         0\n",
       "Proton flux (>1 Mev)    0\n",
       "dtype: int64"
      ]
     },
     "execution_count": 40,
     "metadata": {},
     "output_type": "execute_result"
    }
   ],
   "source": [
    "df.isnull().sum()"
   ]
  },
  {
   "cell_type": "code",
   "execution_count": 41,
   "id": "82a943ff",
   "metadata": {},
   "outputs": [],
   "source": [
    "df.dropna(inplace=True)"
   ]
  },
  {
   "cell_type": "code",
   "execution_count": 42,
   "id": "8c787fbe",
   "metadata": {},
   "outputs": [
    {
     "data": {
      "text/plain": [
       "(3421, 13)"
      ]
     },
     "execution_count": 42,
     "metadata": {},
     "output_type": "execute_result"
    }
   ],
   "source": [
    "df.shape"
   ]
  },
  {
   "cell_type": "code",
   "execution_count": 43,
   "id": "9fa50e55",
   "metadata": {},
   "outputs": [
    {
     "data": {
      "text/plain": [
       "Index(['DATE', 'Vector B Magnitude', 'Lat. Angle of B', 'Temperature',\n",
       "       'Proton Density', 'Plasma Speed', 'Plasma flow', 'Alpha/Prot. ratio',\n",
       "       'Flow pressure', 'E elecrtric field', 'Plasma Beta', 'R (Sunspot No.)',\n",
       "       'Proton flux (>1 Mev)'],\n",
       "      dtype='object')"
      ]
     },
     "execution_count": 43,
     "metadata": {},
     "output_type": "execute_result"
    }
   ],
   "source": [
    "df.columns"
   ]
  },
  {
   "cell_type": "code",
   "execution_count": 44,
   "id": "460a22d3",
   "metadata": {},
   "outputs": [
    {
     "name": "stdout",
     "output_type": "stream",
     "text": [
      "<class 'pandas.core.frame.DataFrame'>\n",
      "Int64Index: 3421 entries, 0 to 3420\n",
      "Data columns (total 13 columns):\n",
      " #   Column                Non-Null Count  Dtype         \n",
      "---  ------                --------------  -----         \n",
      " 0   DATE                  3421 non-null   datetime64[ns]\n",
      " 1   Vector B Magnitude    3421 non-null   float64       \n",
      " 2   Lat. Angle of B       3421 non-null   object        \n",
      " 3   Temperature           3421 non-null   int64         \n",
      " 4   Proton Density        3421 non-null   float64       \n",
      " 5   Plasma Speed          3421 non-null   int64         \n",
      " 6   Plasma flow           3421 non-null   float64       \n",
      " 7   Alpha/Prot. ratio     3421 non-null   float64       \n",
      " 8   Flow pressure         3421 non-null   float64       \n",
      " 9   E elecrtric field     3421 non-null   float64       \n",
      " 10  Plasma Beta           3421 non-null   float64       \n",
      " 11  R (Sunspot No.)       3421 non-null   int64         \n",
      " 12  Proton flux (>1 Mev)  3421 non-null   float64       \n",
      "dtypes: datetime64[ns](1), float64(8), int64(3), object(1)\n",
      "memory usage: 374.2+ KB\n"
     ]
    }
   ],
   "source": [
    "df.info()"
   ]
  },
  {
   "cell_type": "code",
   "execution_count": null,
   "id": "ad64e970",
   "metadata": {},
   "outputs": [],
   "source": []
  },
  {
   "cell_type": "code",
   "execution_count": null,
   "id": "7e8a971c",
   "metadata": {},
   "outputs": [],
   "source": []
  },
  {
   "cell_type": "code",
   "execution_count": 45,
   "id": "8461d5da",
   "metadata": {},
   "outputs": [
    {
     "data": {
      "image/png": "[encoded data removed]",
      "text/plain": [
       "<Figure size 432x288 with 1 Axes>"
      ]
     },
     "metadata": {
      "needs_background": "light"
     },
     "output_type": "display_data"
    }
   ],
   "source": [
    "#f, ax = plt.subplots(nrows=1, ncols=1, figsize=(15, 25))\n",
    "figsize=(10, 14)\n",
    "sns.lineplot(x=df.DATE, y=df[\"Vector B Magnitude\"], color='dodgerblue')\n",
    "#set_title('Feature: Vector B Magnitude', fontsize=5)\n",
    "#set_ylabel(ylabel='Vector B Magnitude', fontsize=15)\n",
    "'''\n",
    "\n",
    "sns.lineplot(x=df.DATE, y=df[\"Lat. Angle of B\"], ax=ax[1], color='dodgerblue',label='Bastia Umbra')\n",
    "ax[1].set_title('Feature:Lat. Angle of B', fontsize=5)\n",
    "ax[1].set_ylabel(ylabel='Lat. Angle of B', fontsize=5)\n",
    "\n",
    "\n",
    "sns.lineplot(x=df.Date, y=df.Drainage_Volume.fillna(np.inf), ax=ax[2], color='dodgerblue')\n",
    "ax[2].set_title('Feature: Volume', fontsize=14)\n",
    "ax[2].set_ylabel(ylabel='Volume', fontsize=14)\n",
    "\n",
    "\n",
    "sns.lineplot(x=df.Date, y=df.River_Hydrometry.fillna(np.inf), ax=ax[3], color='dodgerblue')\n",
    "ax[3].set_title('Feature: Hydrometry', fontsize=14)\n",
    "ax[3].set_ylabel(ylabel='Hydrometry', fontsize=14)\n",
    "\n",
    "\n",
    "sns.lineplot(x=df.Date, y=df.Depth_to_Groundwater.fillna(np.inf), ax=ax[4], color='dodgerblue')\n",
    "ax[4].set_title('Target: Depth to Groundwater', fontsize=14)\n",
    "ax[4].set_ylabel(ylabel='Depth to Groundwater', fontsize=14)\n",
    "\n",
    "\n",
    "for i in range(5):\n",
    "    ax[i].set_xlim([date(2009, 1, 1), date(2020, 6, 30)])\n",
    "'''\n",
    "#ax[1].set_xlim([date(2020, 1, 1), date(2020, 6, 30)])\n",
    "plt.show()"
   ]
  },
  {
   "cell_type": "code",
   "execution_count": 46,
   "id": "c6ce4215",
   "metadata": {},
   "outputs": [
    {
     "data": {
      "text/plain": [
       "<AxesSubplot:xlabel='DATE', ylabel='Temperature'>"
      ]
     },
     "execution_count": 46,
     "metadata": {},
     "output_type": "execute_result"
    },
    {
     "data": {
      "image/png": "[encoded data removed]",
      "text/plain": [
       "<Figure size 432x288 with 1 Axes>"
      ]
     },
     "metadata": {
      "needs_background": "light"
     },
     "output_type": "display_data"
    }
   ],
   "source": [
    "figsize=(10, 14)\n",
    "sns.lineplot(x=df.DATE, y=df[\"Temperature\"], color='dodgerblue')"
   ]
  },
  {
   "cell_type": "code",
   "execution_count": 47,
   "id": "3c582c5f",
   "metadata": {},
   "outputs": [
    {
     "data": {
      "text/plain": [
       "<AxesSubplot:xlabel='DATE', ylabel='Proton Density'>"
      ]
     },
     "execution_count": 47,
     "metadata": {},
     "output_type": "execute_result"
    },
    {
     "data": {
      "image/png": "[encoded data removed]",
      "text/plain": [
       "<Figure size 432x288 with 1 Axes>"
      ]
     },
     "metadata": {
      "needs_background": "light"
     },
     "output_type": "display_data"
    }
   ],
   "source": [
    "figsize=(10, 14)\n",
    "sns.lineplot(x=df.DATE, y=df[\"Proton Density\"], color='dodgerblue')"
   ]
  },
  {
   "cell_type": "code",
   "execution_count": 48,
   "id": "2a0c3340",
   "metadata": {},
   "outputs": [
    {
     "data": {
      "text/plain": [
       "<AxesSubplot:xlabel='DATE', ylabel='Plasma Speed'>"
      ]
     },
     "execution_count": 48,
     "metadata": {},
     "output_type": "execute_result"
    },
    {
     "data": {
      "image/png": "[encoded data removed]",
      "text/plain": [
       "<Figure size 432x288 with 1 Axes>"
      ]
     },
     "metadata": {
      "needs_background": "light"
     },
     "output_type": "display_data"
    }
   ],
   "source": [
    "figsize=(10, 14)\n",
    "sns.lineplot(x=df.DATE, y=df[\"Plasma Speed\"], color='dodgerblue')"
   ]
  },
  {
   "cell_type": "code",
   "execution_count": 49,
   "id": "391b4a4c",
   "metadata": {},
   "outputs": [
    {
     "data": {
      "text/plain": [
       "<AxesSubplot:xlabel='DATE', ylabel='Plasma flow'>"
      ]
     },
     "execution_count": 49,
     "metadata": {},
     "output_type": "execute_result"
    },
    {
     "data": {
      "image/png": "[encoded data removed]",
      "text/plain": [
       "<Figure size 432x288 with 1 Axes>"
      ]
     },
     "metadata": {
      "needs_background": "light"
     },
     "output_type": "display_data"
    }
   ],
   "source": [
    "figsize=(10, 14)\n",
    "sns.lineplot(x=df.DATE, y=df[\"Plasma flow\"], color='dodgerblue')"
   ]
  },
  {
   "cell_type": "code",
   "execution_count": null,
   "id": "60d72d3f",
   "metadata": {},
   "outputs": [],
   "source": []
  },
  {
   "cell_type": "code",
   "execution_count": 50,
   "id": "01141735",
   "metadata": {},
   "outputs": [
    {
     "data": {
      "text/plain": [
       "<AxesSubplot:xlabel='DATE', ylabel='E elecrtric field'>"
      ]
     },
     "execution_count": 50,
     "metadata": {},
     "output_type": "execute_result"
    },
    {
     "data": {
      "image/png": "[encoded data removed]",
      "text/plain": [
       "<Figure size 432x288 with 1 Axes>"
      ]
     },
     "metadata": {
      "needs_background": "light"
     },
     "output_type": "display_data"
    }
   ],
   "source": [
    "figsize=(10, 14)\n",
    "sns.lineplot(x=df.DATE, y=df[\"E elecrtric field\"], color='dodgerblue')"
   ]
  },
  {
   "cell_type": "code",
   "execution_count": 51,
   "id": "05f72f54",
   "metadata": {},
   "outputs": [
    {
     "data": {
      "text/plain": [
       "<AxesSubplot:xlabel='DATE', ylabel='Plasma Beta'>"
      ]
     },
     "execution_count": 51,
     "metadata": {},
     "output_type": "execute_result"
    },
    {
     "data": {
      "image/png": "[encoded data removed]",
      "text/plain": [
       "<Figure size 432x288 with 1 Axes>"
      ]
     },
     "metadata": {
      "needs_background": "light"
     },
     "output_type": "display_data"
    }
   ],
   "source": [
    "figsize=(10, 14)\n",
    "sns.lineplot(x=df.DATE, y=df[\"Plasma Beta\"], color='dodgerblue')"
   ]
  },
  {
   "cell_type": "code",
   "execution_count": 69,
   "id": "9ae7267f",
   "metadata": {},
   "outputs": [
    {
     "data": {
      "text/plain": [
       "<AxesSubplot:xlabel='DATE', ylabel='R (Sunspot No.)'>"
      ]
     },
     "execution_count": 69,
     "metadata": {},
     "output_type": "execute_result"
    },
    {
     "data": {
      "image/png": "[encoded data removed]",
      "text/plain": [
       "<Figure size 432x288 with 1 Axes>"
      ]
     },
     "metadata": {
      "needs_background": "light"
     },
     "output_type": "display_data"
    }
   ],
   "source": [
    "figsize=(20, 14)\n",
    "sns.lineplot(x=df.DATE, y=df[\"R (Sunspot No.)\"], color='dodgerblue')"
   ]
  },
  {
   "cell_type": "code",
   "execution_count": 53,
   "id": "01f25824",
   "metadata": {},
   "outputs": [
    {
     "data": {
      "text/plain": [
       "<AxesSubplot:xlabel='DATE', ylabel='Proton flux (>1 Mev)'>"
      ]
     },
     "execution_count": 53,
     "metadata": {},
     "output_type": "execute_result"
    },
    {
     "data": {
      "image/png": "[encoded data removed]",
      "text/plain": [
       "<Figure size 432x288 with 1 Axes>"
      ]
     },
     "metadata": {
      "needs_background": "light"
     },
     "output_type": "display_data"
    }
   ],
   "source": [
    "figsize=(10, 14)\n",
    "sns.lineplot(x=df.DATE, y=df[\"Proton flux (>1 Mev)\"], color='dodgerblue')"
   ]
  },
  {
   "cell_type": "code",
   "execution_count": 57,
   "id": "91175bf6",
   "metadata": {},
   "outputs": [],
   "source": [
    "from sklearn.preprocessing import StandardScaler\n",
    "Scale=StandardScaler()\n",
    "def data_prep(df, lookback, future, Scale):\n",
    "    date_train=pd.to_datetime(df['DATE'])\n",
    "    df_train=df[['Vector B Magnitude', 'Temperature',\n",
    "       'Proton Density', 'Plasma Speed', 'Plasma flow', 'Alpha/Prot. ratio',\n",
    "       'Flow pressure', 'E elecrtric field', 'Plasma Beta', 'R (Sunspot No.)',\n",
    "       'Proton flux (>1 Mev)']]\n",
    "    df_train=df_train.astype(float)\n",
    "    \n",
    "    df_train_scaled=Scale.fit_transform(df_train)\n",
    "\n",
    "    X, y =[],[]\n",
    "    for i in range(lookback, len(df_train_scaled)-future+1):\n",
    "        X.append(df_train_scaled[i-lookback:i, 0:df_train.shape[1]])\n",
    "        y.append(df_train_scaled[i+future-1:i+future, 0])\n",
    "        \n",
    "    return np.array(X), np.array(y), df_train, date_train\n",
    "\n",
    "Lstm_x, Lstm_y, df_train, date_train = data_prep(df, 30, 1, Scale)"
   ]
  },
  {
   "cell_type": "code",
   "execution_count": 54,
   "id": "5725b88d",
   "metadata": {},
   "outputs": [
    {
     "data": {
      "text/html": [
       "<div>\n",
       "<style scoped>\n",
       "    .dataframe tbody tr th:only-of-type {\n",
       "        vertical-align: middle;\n",
       "    }\n",
       "\n",
       "    .dataframe tbody tr th {\n",
       "        vertical-align: top;\n",
       "    }\n",
       "\n",
       "    .dataframe thead th {\n",
       "        text-align: right;\n",
       "    }\n",
       "</style>\n",
       "<table border=\"1\" class=\"dataframe\">\n",
       "  <thead>\n",
       "    <tr style=\"text-align: right;\">\n",
       "      <th></th>\n",
       "      <th>DATE</th>\n",
       "      <th>Vector B Magnitude</th>\n",
       "      <th>Lat. Angle of B</th>\n",
       "      <th>Temperature</th>\n",
       "      <th>Proton Density</th>\n",
       "      <th>Plasma Speed</th>\n",
       "      <th>Plasma flow</th>\n",
       "      <th>Alpha/Prot. ratio</th>\n",
       "      <th>Flow pressure</th>\n",
       "      <th>E elecrtric field</th>\n",
       "      <th>Plasma Beta</th>\n",
       "      <th>R (Sunspot No.)</th>\n",
       "      <th>Proton flux (&gt;1 Mev)</th>\n",
       "    </tr>\n",
       "  </thead>\n",
       "  <tbody>\n",
       "    <tr>\n",
       "      <th>0</th>\n",
       "      <td>2020-01-01</td>\n",
       "      <td>0.8</td>\n",
       "      <td>-13.7</td>\n",
       "      <td>22067</td>\n",
       "      <td>10.0</td>\n",
       "      <td>295</td>\n",
       "      <td>0.9</td>\n",
       "      <td>0.008</td>\n",
       "      <td>1.50</td>\n",
       "      <td>0.12</td>\n",
       "      <td>10.01</td>\n",
       "      <td>6</td>\n",
       "      <td>999999.99</td>\n",
       "    </tr>\n",
       "    <tr>\n",
       "      <th>1</th>\n",
       "      <td>2020-01-01</td>\n",
       "      <td>2.4</td>\n",
       "      <td>16.8</td>\n",
       "      <td>30130</td>\n",
       "      <td>7.8</td>\n",
       "      <td>299</td>\n",
       "      <td>1.6</td>\n",
       "      <td>0.014</td>\n",
       "      <td>1.23</td>\n",
       "      <td>-0.24</td>\n",
       "      <td>6.12</td>\n",
       "      <td>6</td>\n",
       "      <td>999999.99</td>\n",
       "    </tr>\n",
       "    <tr>\n",
       "      <th>2</th>\n",
       "      <td>2020-01-01</td>\n",
       "      <td>3.7</td>\n",
       "      <td>0.9</td>\n",
       "      <td>39156</td>\n",
       "      <td>8.3</td>\n",
       "      <td>300</td>\n",
       "      <td>-0.4</td>\n",
       "      <td>0.022</td>\n",
       "      <td>1.36</td>\n",
       "      <td>0.06</td>\n",
       "      <td>3.62</td>\n",
       "      <td>6</td>\n",
       "      <td>999999.99</td>\n",
       "    </tr>\n",
       "    <tr>\n",
       "      <th>3</th>\n",
       "      <td>2020-01-01</td>\n",
       "      <td>5.2</td>\n",
       "      <td>4.4</td>\n",
       "      <td>25524</td>\n",
       "      <td>5.5</td>\n",
       "      <td>298</td>\n",
       "      <td>-0.5</td>\n",
       "      <td>0.029</td>\n",
       "      <td>0.91</td>\n",
       "      <td>-0.03</td>\n",
       "      <td>1.25</td>\n",
       "      <td>6</td>\n",
       "      <td>999999.99</td>\n",
       "    </tr>\n",
       "    <tr>\n",
       "      <th>4</th>\n",
       "      <td>2020-01-01</td>\n",
       "      <td>4.0</td>\n",
       "      <td>26.3</td>\n",
       "      <td>30304</td>\n",
       "      <td>7.6</td>\n",
       "      <td>302</td>\n",
       "      <td>0.9</td>\n",
       "      <td>0.012</td>\n",
       "      <td>1.21</td>\n",
       "      <td>-0.51</td>\n",
       "      <td>2.59</td>\n",
       "      <td>6</td>\n",
       "      <td>999999.99</td>\n",
       "    </tr>\n",
       "  </tbody>\n",
       "</table>\n",
       "</div>"
      ],
      "text/plain": [
       "        DATE  Vector B Magnitude Lat. Angle of B  Temperature  Proton Density  \\\n",
       "0 2020-01-01                 0.8           -13.7        22067            10.0   \n",
       "1 2020-01-01                 2.4            16.8        30130             7.8   \n",
       "2 2020-01-01                 3.7             0.9        39156             8.3   \n",
       "3 2020-01-01                 5.2             4.4        25524             5.5   \n",
       "4 2020-01-01                 4.0            26.3        30304             7.6   \n",
       "\n",
       "   Plasma Speed  Plasma flow  Alpha/Prot. ratio  Flow pressure  \\\n",
       "0           295          0.9              0.008           1.50   \n",
       "1           299          1.6              0.014           1.23   \n",
       "2           300         -0.4              0.022           1.36   \n",
       "3           298         -0.5              0.029           0.91   \n",
       "4           302          0.9              0.012           1.21   \n",
       "\n",
       "   E elecrtric field  Plasma Beta  R (Sunspot No.)  Proton flux (>1 Mev)  \n",
       "0               0.12        10.01                6             999999.99  \n",
       "1              -0.24         6.12                6             999999.99  \n",
       "2               0.06         3.62                6             999999.99  \n",
       "3              -0.03         1.25                6             999999.99  \n",
       "4              -0.51         2.59                6             999999.99  "
      ]
     },
     "execution_count": 54,
     "metadata": {},
     "output_type": "execute_result"
    }
   ],
   "source": [
    "df.head()"
   ]
  },
  {
   "cell_type": "code",
   "execution_count": 56,
   "id": "fb244c27",
   "metadata": {},
   "outputs": [
    {
     "data": {
      "text/plain": [
       "Index(['DATE', 'Vector B Magnitude', 'Lat. Angle of B', 'Temperature',\n",
       "       'Proton Density', 'Plasma Speed', 'Plasma flow', 'Alpha/Prot. ratio',\n",
       "       'Flow pressure', 'E elecrtric field', 'Plasma Beta', 'R (Sunspot No.)',\n",
       "       'Proton flux (>1 Mev)'],\n",
       "      dtype='object')"
      ]
     },
     "execution_count": 56,
     "metadata": {},
     "output_type": "execute_result"
    }
   ],
   "source": [
    "df.columns"
   ]
  },
  {
   "cell_type": "code",
   "execution_count": 62,
   "id": "529317b9",
   "metadata": {},
   "outputs": [],
   "source": [
    "def Lstm_fallback(X,y):\n",
    "    model = Sequential()\n",
    "    \n",
    "    model.add(LSTM(64, activation='relu',input_shape=(X.shape[1], X.shape[2]),  return_sequences=True))\n",
    "    model.add(Dropout(0.2))\n",
    "    model.add(BatchNormalization())\n",
    "    model.add(LSTM(32, activation='relu', return_sequences=False))\n",
    "    model.add(Dropout(0.2))\n",
    "    model.add(BatchNormalization())\n",
    "    model.add(Dense(32, activation='relu'))\n",
    "    model.add(Dense(y.shape[1], activation='relu'))\n",
    "\n",
    "    opt = tf.keras.optimizers.Adam(lr=0.001, decay=1e-6)  \n",
    "    model.compile(\n",
    "            loss='mse',\n",
    "            optimizer=opt,\n",
    "        )\n",
    "    \n",
    "    es = tf.keras.callbacks.EarlyStopping(monitor='loss', patience=15, restore_best_weights=True)\n",
    "    model.fit(X, y, epochs=100, verbose=1, callbacks=[es], validation_split=0.1, batch_size=16)\n",
    "    return model"
   ]
  },
  {
   "cell_type": "code",
   "execution_count": 59,
   "id": "be5bbe59",
   "metadata": {},
   "outputs": [
    {
     "name": "stdout",
     "output_type": "stream",
     "text": [
      "Collecting yfinance\n",
      "  Downloading yfinance-0.1.74-py2.py3-none-any.whl (27 kB)\n",
      "Requirement already satisfied: lxml>=4.5.1 in c:\\users\\mcs\\anaconda3\\lib\\site-packages (from yfinance) (4.6.3)\n",
      "Requirement already satisfied: numpy>=1.15 in c:\\users\\mcs\\anaconda3\\lib\\site-packages (from yfinance) (1.20.3)\n",
      "Requirement already satisfied: requests>=2.26 in c:\\users\\mcs\\anaconda3\\lib\\site-packages (from yfinance) (2.26.0)\n",
      "Collecting multitasking>=0.0.7\n",
      "  Downloading multitasking-0.0.11-py3-none-any.whl (8.5 kB)\n",
      "Requirement already satisfied: pandas>=0.24.0 in c:\\users\\mcs\\anaconda3\\lib\\site-packages (from yfinance) (1.3.4)\n",
      "Requirement already satisfied: python-dateutil>=2.7.3 in c:\\users\\mcs\\anaconda3\\lib\\site-packages (from pandas>=0.24.0->yfinance) (2.8.2)\n",
      "Requirement already satisfied: pytz>=2017.3 in c:\\users\\mcs\\anaconda3\\lib\\site-packages (from pandas>=0.24.0->yfinance) (2021.3)\n",
      "Requirement already satisfied: six>=1.5 in c:\\users\\mcs\\anaconda3\\lib\\site-packages (from python-dateutil>=2.7.3->pandas>=0.24.0->yfinance) (1.16.0)\n",
      "Requirement already satisfied: certifi>=2017.4.17 in c:\\users\\mcs\\anaconda3\\lib\\site-packages (from requests>=2.26->yfinance) (2022.6.15)\n",
      "Requirement already satisfied: idna<4,>=2.5 in c:\\users\\mcs\\anaconda3\\lib\\site-packages (from requests>=2.26->yfinance) (3.2)\n",
      "Requirement already satisfied: urllib3<1.27,>=1.21.1 in c:\\users\\mcs\\anaconda3\\lib\\site-packages (from requests>=2.26->yfinance) (1.26.7)\n",
      "Requirement already satisfied: charset-normalizer~=2.0.0 in c:\\users\\mcs\\anaconda3\\lib\\site-packages (from requests>=2.26->yfinance) (2.0.4)\n",
      "Installing collected packages: multitasking, yfinance\n",
      "Successfully installed multitasking-0.0.11 yfinance-0.1.74\n"
     ]
    }
   ],
   "source": [
    "from tensorflow.keras import optimizers\n",
    "from tensorflow.keras.models import Sequential\n",
    "from tensorflow.keras.layers import LSTM\n",
    "from tensorflow.keras.layers import Dense\n",
    "from tensorflow.keras.layers import Dropout\n",
    "from tensorflow.keras.layers import BatchNormalization\n",
    "from tensorflow.keras.layers import Flatten\n",
    "import tensorflow as tf\n",
    "import matplotlib.pyplot as plt\n",
    "import seaborn as sns\n",
    "#import plotly.express as px\n",
    "!pip install yfinance \n",
    "import yfinance as yf"
   ]
  },
  {
   "cell_type": "code",
   "execution_count": null,
   "id": "4bf9864f",
   "metadata": {},
   "outputs": [],
   "source": []
  },
  {
   "cell_type": "code",
   "execution_count": null,
   "id": "0a6f0369",
   "metadata": {},
   "outputs": [],
   "source": []
  },
  {
   "cell_type": "code",
   "execution_count": 63,
   "id": "23ad404b",
   "metadata": {},
   "outputs": [],
   "source": [
    "def Lstm_model1(X, y):\n",
    "    regressor = Sequential()\n",
    "\n",
    "    regressor.add(LSTM(units = 50, return_sequences = True, input_shape = (X.shape[1], X.shape[2])))\n",
    "    regressor.add(Dropout(0.2))\n",
    "    regressor.add(LSTM(units = 50, return_sequences = True))\n",
    "    regressor.add(Dropout(0.2))\n",
    "    regressor.add(LSTM(units = 50, return_sequences = True))\n",
    "    regressor.add(Dropout(0.2))\n",
    "    regressor.add(LSTM(units = 50))\n",
    "    regressor.add(Dropout(0.2))\n",
    "    regressor.add(Dense(units = 1))\n",
    "\n",
    "    regressor.compile(optimizer = 'adam', loss = 'mean_squared_error')\n",
    "    \n",
    "    es = tf.keras.callbacks.EarlyStopping(monitor='loss', patience=15, restore_best_weights=True)\n",
    "    regressor.fit(X, y, epochs = 100, validation_split=0.1, batch_size = 64, verbose=1, callbacks=[es])\n",
    "    return regressor"
   ]
  },
  {
   "cell_type": "code",
   "execution_count": 64,
   "id": "f29b1042",
   "metadata": {},
   "outputs": [],
   "source": [
    "def Lstm_model2(X,y):\n",
    "    model=Sequential()\n",
    "    \n",
    "    model.add(LSTM(20,return_sequences=True,input_shape=(X.shape[1], X.shape[2])))\n",
    "    model.add(Dropout(0.2))\n",
    "    model.add(BatchNormalization())\n",
    "    #model.add(LSTM(15,return_sequences=True))\n",
    "    #model.add(Dropout(0.2))\n",
    "    #model.add(BatchNormalization())\n",
    "    model.add(LSTM(15))\n",
    "    model.add(Dropout(0.2))\n",
    "    model.add(BatchNormalization())\n",
    "    model.add(Dense(16, activation='relu'))\n",
    "    model.add(Dense(1))\n",
    "    \n",
    "    adam = optimizers.Adam(0.001)\n",
    "    model.compile(loss='mean_squared_error',optimizer=adam)\n",
    "    \n",
    "    es = tf.keras.callbacks.EarlyStopping(monitor='loss', patience=15, restore_best_weights=True)\n",
    "    model.fit(X, y,validation_split=0.2,epochs=100,batch_size=64,verbose=1, callbacks=[es])\n",
    "    return model"
   ]
  },
  {
   "cell_type": "code",
   "execution_count": 65,
   "id": "4e739a79",
   "metadata": {},
   "outputs": [],
   "source": [
    "def predict_open(model,date_train,Lstm_x,df_train, future, Scale):\n",
    "    forecasting_dates=pd.date_range(list(date_train)[-1], periods=future, freq='1d').tolist()\n",
    "    predicted=model.predict(Lstm_x[-future:])\n",
    "    predicted1=np.repeat(predicted, df_train.shape[1], axis=-1)\n",
    "    predicted_descaled=Scale.inverse_transform(predicted1)[:,0]\n",
    "    return predicted_descaled,forecasting_dates\n",
    "\n",
    "def output_prep(forecasting_dates,predicted_descaled):\n",
    "    dates=[]\n",
    "    for i in forecasting_dates:\n",
    "        dates.append(i.date())\n",
    "    df_final=pd.DataFrame(columns=['Date','Open'])\n",
    "    df_final['Date']=pd.to_datetime(dates)\n",
    "    df_final['Open']=predicted_descaled\n",
    "    return df_final"
   ]
  },
  {
   "cell_type": "code",
   "execution_count": 66,
   "id": "e95d521e",
   "metadata": {},
   "outputs": [],
   "source": [
    "def results(df, lookback, future, Scale, x):\n",
    "    Lstm_x, Lstm_y, df_train, date_train = data_prep(df, lookback, future, Scale)\n",
    "    model=Lstm_model1(Lstm_x,Lstm_y)\n",
    "    loss=pd.DataFrame(model.history.history)\n",
    "    loss.plot()\n",
    "    future=30\n",
    "    predicted_descaled,forecasting_dates=predict_open(model,date_train,Lstm_x,df_train,future, Scale)\n",
    "    results=output_prep(forecasting_dates,predicted_descaled)   \n",
    "    print(results.head())\n",
    "    plt.show()\n",
    "    fig = px.area(results, x=\"Date\", y=\"Open\", title=x)\n",
    "    fig.update_yaxes(range=[results.Open.min()-10, results.Open.max()+10])\n",
    "    fig.show()"
   ]
  },
  {
   "cell_type": "code",
   "execution_count": 67,
   "id": "768a0e4e",
   "metadata": {},
   "outputs": [],
   "source": [
    "def results1(df, lookback, future, Scale, x):\n",
    "    Lstm_x, Lstm_y, df_train, date_train = data_prep(df, lookback, future, Scale)\n",
    "    model=Lstm_model2(Lstm_x,Lstm_y)\n",
    "    loss=pd.DataFrame(model.history.history)\n",
    "    loss.plot()\n",
    "    future=30\n",
    "    predicted_descaled,forecasting_dates=predict_open(model,date_train,Lstm_x,df_train,future, Scale)\n",
    "    results=output_prep(forecasting_dates,predicted_descaled)   \n",
    "    print(results.head())\n",
    "    plt.show()\n",
    "    fig = px.area(results, x=\"Date\", y=\"Open\", title=x)\n",
    "    fig.update_yaxes(range=[results.Open.min()-10, results.Open.max()+10])\n",
    "    fig.show()"
   ]
  },
  {
   "cell_type": "code",
   "execution_count": 68,
   "id": "dfa4876f",
   "metadata": {},
   "outputs": [
    {
     "name": "stdout",
     "output_type": "stream",
     "text": [
      "Epoch 1/100\n",
      "48/48 [==============================] - 14s 111ms/step - loss: 0.7781 - val_loss: 0.4867\n",
      "Epoch 2/100\n",
      "48/48 [==============================] - 3s 69ms/step - loss: 0.6160 - val_loss: 0.4076\n",
      "Epoch 3/100\n",
      "48/48 [==============================] - 3s 69ms/step - loss: 0.5429 - val_loss: 0.3711\n",
      "Epoch 4/100\n",
      "48/48 [==============================] - 3s 71ms/step - loss: 0.5009 - val_loss: 0.3397\n",
      "Epoch 5/100\n",
      "48/48 [==============================] - 3s 70ms/step - loss: 0.4780 - val_loss: 0.3510\n",
      "Epoch 6/100\n",
      "48/48 [==============================] - 3s 69ms/step - loss: 0.4580 - val_loss: 0.3280\n",
      "Epoch 7/100\n",
      "48/48 [==============================] - 3s 68ms/step - loss: 0.4420 - val_loss: 0.2983\n",
      "Epoch 8/100\n",
      "48/48 [==============================] - 3s 67ms/step - loss: 0.4240 - val_loss: 0.3238\n",
      "Epoch 9/100\n",
      "48/48 [==============================] - 3s 67ms/step - loss: 0.4107 - val_loss: 0.3139\n",
      "Epoch 10/100\n",
      "48/48 [==============================] - 3s 66ms/step - loss: 0.3933 - val_loss: 0.3120\n",
      "Epoch 11/100\n",
      "48/48 [==============================] - 3s 67ms/step - loss: 0.3860 - val_loss: 0.2842\n",
      "Epoch 12/100\n",
      "48/48 [==============================] - 3s 66ms/step - loss: 0.3794 - val_loss: 0.2875\n",
      "Epoch 13/100\n",
      "48/48 [==============================] - 3s 67ms/step - loss: 0.3540 - val_loss: 0.2676\n",
      "Epoch 14/100\n",
      "48/48 [==============================] - 3s 67ms/step - loss: 0.3516 - val_loss: 0.2710\n",
      "Epoch 15/100\n",
      "48/48 [==============================] - 3s 70ms/step - loss: 0.3351 - val_loss: 0.2630\n",
      "Epoch 16/100\n",
      "48/48 [==============================] - 3s 70ms/step - loss: 0.3294 - val_loss: 0.2702\n",
      "Epoch 17/100\n",
      "48/48 [==============================] - 3s 69ms/step - loss: 0.3213 - val_loss: 0.2450\n",
      "Epoch 18/100\n",
      "48/48 [==============================] - 3s 70ms/step - loss: 0.3060 - val_loss: 0.2768\n",
      "Epoch 19/100\n",
      "48/48 [==============================] - 4s 78ms/step - loss: 0.3062 - val_loss: 0.2482\n",
      "Epoch 20/100\n",
      "48/48 [==============================] - 3s 70ms/step - loss: 0.2966 - val_loss: 0.2457\n",
      "Epoch 21/100\n",
      "48/48 [==============================] - 3s 69ms/step - loss: 0.2962 - val_loss: 0.2354\n",
      "Epoch 22/100\n",
      "48/48 [==============================] - 3s 68ms/step - loss: 0.2960 - val_loss: 0.2374\n",
      "Epoch 23/100\n",
      "48/48 [==============================] - 3s 69ms/step - loss: 0.2975 - val_loss: 0.2431\n",
      "Epoch 24/100\n",
      "48/48 [==============================] - 3s 68ms/step - loss: 0.2933 - val_loss: 0.2361\n",
      "Epoch 25/100\n",
      "48/48 [==============================] - 3s 68ms/step - loss: 0.2839 - val_loss: 0.2418\n",
      "Epoch 26/100\n",
      "48/48 [==============================] - 3s 68ms/step - loss: 0.2848 - val_loss: 0.2308\n",
      "Epoch 27/100\n",
      "48/48 [==============================] - 3s 67ms/step - loss: 0.2748 - val_loss: 0.2512\n",
      "Epoch 28/100\n",
      "48/48 [==============================] - 3s 67ms/step - loss: 0.2890 - val_loss: 0.2396\n",
      "Epoch 29/100\n",
      "48/48 [==============================] - 3s 69ms/step - loss: 0.2723 - val_loss: 0.2405\n",
      "Epoch 30/100\n",
      "48/48 [==============================] - 3s 71ms/step - loss: 0.2649 - val_loss: 0.2423\n",
      "Epoch 31/100\n",
      "48/48 [==============================] - 3s 70ms/step - loss: 0.2670 - val_loss: 0.2481\n",
      "Epoch 32/100\n",
      "48/48 [==============================] - 3s 70ms/step - loss: 0.2651 - val_loss: 0.2516\n",
      "Epoch 33/100\n",
      "48/48 [==============================] - 3s 69ms/step - loss: 0.2696 - val_loss: 0.2557\n",
      "Epoch 34/100\n",
      "48/48 [==============================] - 3s 70ms/step - loss: 0.2663 - val_loss: 0.2501\n",
      "Epoch 35/100\n",
      "48/48 [==============================] - 3s 71ms/step - loss: 0.2677 - val_loss: 0.2690\n",
      "Epoch 36/100\n",
      "48/48 [==============================] - 3s 72ms/step - loss: 0.2650 - val_loss: 0.2705\n",
      "Epoch 37/100\n",
      "48/48 [==============================] - 3s 71ms/step - loss: 0.2666 - val_loss: 0.2508\n",
      "Epoch 38/100\n",
      "48/48 [==============================] - 3s 70ms/step - loss: 0.2622 - val_loss: 0.2734\n",
      "Epoch 39/100\n",
      "48/48 [==============================] - 3s 70ms/step - loss: 0.2632 - val_loss: 0.2686\n",
      "Epoch 40/100\n",
      "48/48 [==============================] - 3s 69ms/step - loss: 0.2619 - val_loss: 0.2550\n",
      "Epoch 41/100\n",
      "48/48 [==============================] - 4s 76ms/step - loss: 0.2621 - val_loss: 0.2654\n",
      "Epoch 42/100\n",
      "48/48 [==============================] - 3s 61ms/step - loss: 0.2667 - val_loss: 0.2483\n",
      "Epoch 43/100\n",
      "48/48 [==============================] - 3s 61ms/step - loss: 0.2525 - val_loss: 0.2683\n",
      "Epoch 44/100\n",
      "48/48 [==============================] - 3s 62ms/step - loss: 0.2519 - val_loss: 0.2924\n",
      "Epoch 45/100\n",
      "48/48 [==============================] - 3s 61ms/step - loss: 0.2534 - val_loss: 0.2592\n",
      "Epoch 46/100\n",
      "48/48 [==============================] - 3s 61ms/step - loss: 0.2503 - val_loss: 0.2926\n",
      "Epoch 47/100\n",
      "48/48 [==============================] - 3s 61ms/step - loss: 0.2484 - val_loss: 0.2892\n",
      "Epoch 48/100\n",
      "48/48 [==============================] - 3s 61ms/step - loss: 0.2512 - val_loss: 0.2917\n",
      "Epoch 49/100\n",
      "48/48 [==============================] - 3s 60ms/step - loss: 0.2450 - val_loss: 0.2752\n",
      "Epoch 50/100\n",
      "48/48 [==============================] - 3s 60ms/step - loss: 0.2498 - val_loss: 0.2798\n",
      "Epoch 51/100\n",
      "48/48 [==============================] - 3s 62ms/step - loss: 0.2451 - val_loss: 0.2874\n",
      "Epoch 52/100\n",
      "48/48 [==============================] - 3s 61ms/step - loss: 0.2485 - val_loss: 0.3026\n",
      "Epoch 53/100\n",
      "48/48 [==============================] - 3s 61ms/step - loss: 0.2433 - val_loss: 0.2935\n",
      "Epoch 54/100\n",
      "48/48 [==============================] - 3s 62ms/step - loss: 0.2452 - val_loss: 0.3085\n",
      "Epoch 55/100\n",
      "48/48 [==============================] - 3s 67ms/step - loss: 0.2429 - val_loss: 0.3009\n",
      "Epoch 56/100\n",
      "48/48 [==============================] - 3s 70ms/step - loss: 0.2378 - val_loss: 0.3211\n",
      "Epoch 57/100\n",
      "48/48 [==============================] - 4s 78ms/step - loss: 0.2358 - val_loss: 0.2933\n",
      "Epoch 58/100\n",
      "48/48 [==============================] - 4s 75ms/step - loss: 0.2312 - val_loss: 0.3150\n",
      "Epoch 59/100\n",
      "48/48 [==============================] - 3s 67ms/step - loss: 0.2431 - val_loss: 0.3160\n",
      "Epoch 60/100\n",
      "48/48 [==============================] - 3s 68ms/step - loss: 0.2381 - val_loss: 0.3123\n",
      "Epoch 61/100\n",
      "48/48 [==============================] - 3s 69ms/step - loss: 0.2306 - val_loss: 0.3375\n",
      "Epoch 62/100\n",
      "48/48 [==============================] - 3s 69ms/step - loss: 0.2301 - val_loss: 0.3004\n",
      "Epoch 63/100\n",
      "48/48 [==============================] - 4s 74ms/step - loss: 0.2284 - val_loss: 0.3459\n",
      "Epoch 64/100\n",
      "48/48 [==============================] - 4s 85ms/step - loss: 0.2304 - val_loss: 0.3204\n",
      "Epoch 65/100\n",
      "48/48 [==============================] - 4s 81ms/step - loss: 0.2329 - val_loss: 0.3129\n",
      "Epoch 66/100\n",
      "48/48 [==============================] - 4s 74ms/step - loss: 0.2354 - val_loss: 0.3152\n",
      "Epoch 67/100\n",
      "48/48 [==============================] - 4s 73ms/step - loss: 0.2281 - val_loss: 0.3098\n",
      "Epoch 68/100\n",
      "48/48 [==============================] - 3s 71ms/step - loss: 0.2252 - val_loss: 0.3238\n",
      "Epoch 69/100\n",
      "48/48 [==============================] - 3s 68ms/step - loss: 0.2238 - val_loss: 0.3621\n",
      "Epoch 70/100\n",
      "48/48 [==============================] - 3s 69ms/step - loss: 0.2210 - val_loss: 0.3269\n",
      "Epoch 71/100\n",
      "48/48 [==============================] - 3s 69ms/step - loss: 0.2119 - val_loss: 0.3578\n",
      "Epoch 72/100\n",
      "48/48 [==============================] - 3s 68ms/step - loss: 0.2198 - val_loss: 0.3235\n",
      "Epoch 73/100\n",
      "48/48 [==============================] - 3s 71ms/step - loss: 0.2199 - val_loss: 0.3121\n",
      "Epoch 74/100\n",
      "48/48 [==============================] - 3s 73ms/step - loss: 0.2189 - val_loss: 0.3256\n",
      "Epoch 75/100\n",
      "48/48 [==============================] - 3s 71ms/step - loss: 0.2145 - val_loss: 0.3428\n",
      "Epoch 76/100\n",
      "48/48 [==============================] - 3s 68ms/step - loss: 0.2127 - val_loss: 0.3625\n",
      "Epoch 77/100\n",
      "48/48 [==============================] - 3s 69ms/step - loss: 0.2145 - val_loss: 0.3507\n",
      "Epoch 78/100\n",
      "48/48 [==============================] - 3s 68ms/step - loss: 0.2184 - val_loss: 0.3472\n",
      "Epoch 79/100\n",
      "48/48 [==============================] - 3s 68ms/step - loss: 0.2100 - val_loss: 0.3582\n",
      "Epoch 80/100\n",
      "48/48 [==============================] - 3s 69ms/step - loss: 0.2126 - val_loss: 0.3665\n",
      "Epoch 81/100\n",
      "48/48 [==============================] - 3s 68ms/step - loss: 0.2157 - val_loss: 0.3428\n",
      "Epoch 82/100\n",
      "48/48 [==============================] - 3s 67ms/step - loss: 0.2095 - val_loss: 0.3634\n",
      "Epoch 83/100\n",
      "48/48 [==============================] - 3s 67ms/step - loss: 0.2049 - val_loss: 0.3552\n",
      "Epoch 84/100\n",
      "48/48 [==============================] - 3s 67ms/step - loss: 0.2007 - val_loss: 0.3634\n",
      "Epoch 85/100\n",
      "48/48 [==============================] - 3s 67ms/step - loss: 0.2015 - val_loss: 0.3531\n",
      "Epoch 86/100\n",
      "48/48 [==============================] - 3s 67ms/step - loss: 0.2030 - val_loss: 0.4024\n",
      "Epoch 87/100\n",
      "48/48 [==============================] - 3s 68ms/step - loss: 0.2056 - val_loss: 0.3432\n",
      "Epoch 88/100\n",
      "48/48 [==============================] - 3s 68ms/step - loss: 0.1964 - val_loss: 0.4072\n",
      "Epoch 89/100\n",
      "48/48 [==============================] - 3s 67ms/step - loss: 0.2020 - val_loss: 0.3928\n",
      "Epoch 90/100\n",
      "48/48 [==============================] - 3s 67ms/step - loss: 0.1987 - val_loss: 0.3830\n",
      "Epoch 91/100\n",
      "48/48 [==============================] - 3s 67ms/step - loss: 0.1962 - val_loss: 0.3799\n",
      "Epoch 92/100\n",
      "48/48 [==============================] - 3s 67ms/step - loss: 0.2007 - val_loss: 0.3933\n",
      "Epoch 93/100\n",
      "48/48 [==============================] - 3s 67ms/step - loss: 0.1969 - val_loss: 0.3857\n",
      "Epoch 94/100\n",
      "48/48 [==============================] - 3s 66ms/step - loss: 0.1983 - val_loss: 0.3765\n",
      "Epoch 95/100\n",
      "48/48 [==============================] - 3s 67ms/step - loss: 0.1954 - val_loss: 0.3879\n",
      "Epoch 96/100\n",
      "48/48 [==============================] - 3s 67ms/step - loss: 0.2003 - val_loss: 0.4037\n",
      "Epoch 97/100\n",
      "48/48 [==============================] - 3s 68ms/step - loss: 0.1898 - val_loss: 0.3496\n",
      "Epoch 98/100\n",
      "48/48 [==============================] - 3s 68ms/step - loss: 0.1987 - val_loss: 0.3720\n",
      "Epoch 99/100\n",
      "48/48 [==============================] - 3s 67ms/step - loss: 0.1892 - val_loss: 0.4000\n",
      "Epoch 100/100\n",
      "48/48 [==============================] - 3s 68ms/step - loss: 0.1973 - val_loss: 0.3859\n",
      "1/1 [==============================] - 2s 2s/step\n",
      "        Date      Open\n",
      "0 2020-05-27  3.292907\n",
      "1 2020-05-28  3.296453\n",
      "2 2020-05-29  3.123239\n",
      "3 2020-05-30  2.924403\n",
      "4 2020-05-31  3.192354\n"
     ]
    },
    {
     "data": {
      "image/png": "[encoded data removed]",
      "text/plain": [
       "<Figure size 432x288 with 1 Axes>"
      ]
     },
     "metadata": {
      "needs_background": "light"
     },
     "output_type": "display_data"
    },
    {
     "ename": "NameError",
     "evalue": "name 'px' is not defined",
     "output_type": "error",
     "traceback": [
      "\u001b[1;31m---------------------------------------------------------------------------\u001b[0m",
      "\u001b[1;31mNameError\u001b[0m                                 Traceback (most recent call last)",
      "\u001b[1;32m~\\AppData\\Local\\Temp/ipykernel_14112/1692194829.py\u001b[0m in \u001b[0;36m<module>\u001b[1;34m\u001b[0m\n\u001b[1;32m----> 1\u001b[1;33m \u001b[0mresults\u001b[0m\u001b[1;33m(\u001b[0m\u001b[0mdf\u001b[0m\u001b[1;33m,\u001b[0m \u001b[1;36m30\u001b[0m\u001b[1;33m,\u001b[0m \u001b[1;36m1\u001b[0m\u001b[1;33m,\u001b[0m \u001b[0mScale\u001b[0m\u001b[1;33m,\u001b[0m \u001b[1;34m'NSEBANK'\u001b[0m\u001b[1;33m)\u001b[0m\u001b[1;33m\u001b[0m\u001b[1;33m\u001b[0m\u001b[0m\n\u001b[0m",
      "\u001b[1;32m~\\AppData\\Local\\Temp/ipykernel_14112/3293370002.py\u001b[0m in \u001b[0;36mresults\u001b[1;34m(df, lookback, future, Scale, x)\u001b[0m\n\u001b[0;32m      9\u001b[0m     \u001b[0mprint\u001b[0m\u001b[1;33m(\u001b[0m\u001b[0mresults\u001b[0m\u001b[1;33m.\u001b[0m\u001b[0mhead\u001b[0m\u001b[1;33m(\u001b[0m\u001b[1;33m)\u001b[0m\u001b[1;33m)\u001b[0m\u001b[1;33m\u001b[0m\u001b[1;33m\u001b[0m\u001b[0m\n\u001b[0;32m     10\u001b[0m     \u001b[0mplt\u001b[0m\u001b[1;33m.\u001b[0m\u001b[0mshow\u001b[0m\u001b[1;33m(\u001b[0m\u001b[1;33m)\u001b[0m\u001b[1;33m\u001b[0m\u001b[1;33m\u001b[0m\u001b[0m\n\u001b[1;32m---> 11\u001b[1;33m     \u001b[0mfig\u001b[0m \u001b[1;33m=\u001b[0m \u001b[0mpx\u001b[0m\u001b[1;33m.\u001b[0m\u001b[0marea\u001b[0m\u001b[1;33m(\u001b[0m\u001b[0mresults\u001b[0m\u001b[1;33m,\u001b[0m \u001b[0mx\u001b[0m\u001b[1;33m=\u001b[0m\u001b[1;34m\"Date\"\u001b[0m\u001b[1;33m,\u001b[0m \u001b[0my\u001b[0m\u001b[1;33m=\u001b[0m\u001b[1;34m\"Open\"\u001b[0m\u001b[1;33m,\u001b[0m \u001b[0mtitle\u001b[0m\u001b[1;33m=\u001b[0m\u001b[0mx\u001b[0m\u001b[1;33m)\u001b[0m\u001b[1;33m\u001b[0m\u001b[1;33m\u001b[0m\u001b[0m\n\u001b[0m\u001b[0;32m     12\u001b[0m     \u001b[0mfig\u001b[0m\u001b[1;33m.\u001b[0m\u001b[0mupdate_yaxes\u001b[0m\u001b[1;33m(\u001b[0m\u001b[0mrange\u001b[0m\u001b[1;33m=\u001b[0m\u001b[1;33m[\u001b[0m\u001b[0mresults\u001b[0m\u001b[1;33m.\u001b[0m\u001b[0mOpen\u001b[0m\u001b[1;33m.\u001b[0m\u001b[0mmin\u001b[0m\u001b[1;33m(\u001b[0m\u001b[1;33m)\u001b[0m\u001b[1;33m-\u001b[0m\u001b[1;36m10\u001b[0m\u001b[1;33m,\u001b[0m \u001b[0mresults\u001b[0m\u001b[1;33m.\u001b[0m\u001b[0mOpen\u001b[0m\u001b[1;33m.\u001b[0m\u001b[0mmax\u001b[0m\u001b[1;33m(\u001b[0m\u001b[1;33m)\u001b[0m\u001b[1;33m+\u001b[0m\u001b[1;36m10\u001b[0m\u001b[1;33m]\u001b[0m\u001b[1;33m)\u001b[0m\u001b[1;33m\u001b[0m\u001b[1;33m\u001b[0m\u001b[0m\n\u001b[0;32m     13\u001b[0m     \u001b[0mfig\u001b[0m\u001b[1;33m.\u001b[0m\u001b[0mshow\u001b[0m\u001b[1;33m(\u001b[0m\u001b[1;33m)\u001b[0m\u001b[1;33m\u001b[0m\u001b[1;33m\u001b[0m\u001b[0m\n",
      "\u001b[1;31mNameError\u001b[0m: name 'px' is not defined"
     ]
    }
   ],
   "source": [
    "results(df, 30, 1, Scale, 'NSEBANK')"
   ]
  },
  {
   "cell_type": "code",
   "execution_count": null,
   "id": "31de287e",
   "metadata": {},
   "outputs": [],
   "source": []
  },
  {
   "cell_type": "code",
   "execution_count": null,
   "id": "c7b2db63",
   "metadata": {},
   "outputs": [],
   "source": []
  },
  {
   "cell_type": "code",
   "execution_count": null,
   "id": "428c2a59",
   "metadata": {},
   "outputs": [],
   "source": []
  },
  {
   "cell_type": "code",
   "execution_count": null,
   "id": "877d1a98",
   "metadata": {},
   "outputs": [],
   "source": []
  },
  {
   "cell_type": "code",
   "execution_count": null,
   "id": "fac617f0",
   "metadata": {},
   "outputs": [],
   "source": []
  },
  {
   "cell_type": "code",
   "execution_count": null,
   "id": "b45c3e82",
   "metadata": {},
   "outputs": [],
   "source": []
  },
  {
   "cell_type": "code",
   "execution_count": null,
   "id": "09517bcb",
   "metadata": {},
   "outputs": [],
   "source": []
  },
  {
   "cell_type": "code",
   "execution_count": null,
   "id": "ab979fa8",
   "metadata": {},
   "outputs": [],
   "source": []
  },
  {
   "cell_type": "code",
   "execution_count": null,
   "id": "dcc7583d",
   "metadata": {},
   "outputs": [],
   "source": []
  },
  {
   "cell_type": "code",
   "execution_count": null,
   "id": "ced40b70",
   "metadata": {},
   "outputs": [],
   "source": []
  }
 ],
 "metadata": {
  "kernelspec": {
   "display_name": "Python 3 (ipykernel)",
   "language": "python",
   "name": "python3"
  },
  "language_info": {
   "codemirror_mode": {
    "name": "ipython",
    "version": 3
   },
   "file_extension": ".py",
   "mimetype": "text/x-python",
   "name": "python",
   "nbconvert_exporter": "python",
   "pygments_lexer": "ipython3",
   "version": "3.9.7"
  },
  "varInspector": {
   "cols": {
    "lenName": 16,
    "lenType": 16,
    "lenVar": 40
   },
   "kernels_config": {
    "python": {
     "delete_cmd_postfix": "",
     "delete_cmd_prefix": "del ",
     "library": "var_list.py",
     "varRefreshCmd": "print(var_dic_list())"
    },
    "r": {
     "delete_cmd_postfix": ") ",
     "delete_cmd_prefix": "rm(",
     "library": "var_list.r",
     "varRefreshCmd": "cat(var_dic_list()) "
    }
   },
   "types_to_exclude": [
    "module",
    "function",
    "builtin_function_or_method",
    "instance",
    "_Feature"
   ],
   "window_display": false
  }
 },
 "nbformat": 4,
 "nbformat_minor": 5
}
